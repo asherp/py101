{
 "cells": [
  {
   "cell_type": "markdown",
   "metadata": {},
   "source": [
    "# Setup\n",
    "\n",
    "To run these examples, you'll need to have python, jupyter and the following packages\n",
    "\n",
    "* numpy\n",
    "* pandas\n"
   ]
  },
  {
   "cell_type": "markdown",
   "metadata": {},
   "source": [
    "The cleanest and easiest way to get the requirements is to use the anaconda packaging and environment system. First navigate here:\n",
    "\n",
    "https://conda.io/miniconda.html\n",
    "\n",
    "Then download either python 2.7 or python 3. Both should work for these examples. When you run the installer, you'll have the option to choose the install path. You'll also choose whether to make this the default python interpreter. You can always edit your bashrc file to change this behavior."
   ]
  },
  {
   "cell_type": "markdown",
   "metadata": {},
   "source": [
    "# Introduction\n",
    "\n",
    "## Scope\n",
    "\n",
    "This tutorial focuses on the key concepts necessary for working with scientific data in python. To that end, we are interested in how to represent, transform, and visualize scientific data. \n",
    "\n",
    "* Objects and Data types\n",
    "* Functions\n",
    "* Flow control"
   ]
  },
  {
   "cell_type": "markdown",
   "metadata": {},
   "source": [
    "# Notebook basics\n",
    "\n",
    "This is an interactive notebook which can be started from command line\n",
    "\n",
    "    git clone git@developer.nasa.gov:CCMC/python101.git\n",
    "    cd python101\n",
    "    jupyter notebook Python101.ipynb\n",
    "    \n",
    "The last line will open your browser and start the interactive notebook session.\n",
    "If you need to restart the server, go to ```Kernel -> Restart```\n",
    "\n",
    "### Cell Modes\n",
    "\n",
    "Notebooks are comprised of a list of cells. Each cell can be in ```edit``` mode (in green border) or ```command``` mode (blue border). Edit mode allows you to make changes to individual cells, while command mode allows you to copy/paste and perform operations on entire cells. Use ```esc``` to go into edit mode. More on notebook basics can be found here:\n",
    "\n",
    "https://jupyter-notebook.readthedocs.io/en/stable/examples/Notebook/Notebook%20Basics.html\n",
    "\n",
    "### Cell types\n",
    "\n",
    "A given cell can be of several types, such as ```code``` or ```markdown```, which can be chosen from the navigation bar at the top of the page. ```Markdown``` is for documentation, while ```code``` allows you to execute python code interactively.\n",
    "\n",
    "\n",
    "### Executing cells\n",
    "\n",
    "To execute a cell, use shift-Enter. As we work through this notebook, try executing each line. The order of execution matters. After executing a line, the left-hand side of the cell will be given an execution number in brackets."
   ]
  },
  {
   "cell_type": "code",
   "execution_count": 114,
   "metadata": {},
   "outputs": [],
   "source": [
    "mystr = 'first'"
   ]
  },
  {
   "cell_type": "markdown",
   "metadata": {},
   "source": [
    "Notebooks will attempt to render any object placed on a line by itself:"
   ]
  },
  {
   "cell_type": "code",
   "execution_count": 115,
   "metadata": {},
   "outputs": [
    {
     "data": {
      "text/plain": [
       "'first'"
      ]
     },
     "execution_count": 115,
     "metadata": {},
     "output_type": "execute_result"
    }
   ],
   "source": [
    "mystr"
   ]
  },
  {
   "cell_type": "markdown",
   "metadata": {},
   "source": [
    "### Getting help"
   ]
  },
  {
   "cell_type": "markdown",
   "metadata": {},
   "source": [
    "Try tab completion to look for methods that might be useful. \n",
    "    \n",
    "    mystr = 'first'\n",
    "    mystr.<tab>\n",
    "    \n",
    "This will pop up a list of other commands you can perform for that object.\n",
    "\n",
    "Use the jupyter help function to see more info.\n",
    "\n",
    "    help(mystr.format)\n",
    "\n",
    "Alternatively, put ? at the end of a command to and the documentation will appear a the bottom of the notebook (Hit ```esc``` key to remove it)."
   ]
  },
  {
   "cell_type": "markdown",
   "metadata": {},
   "source": [
    "# Organization\n",
    "\n",
    "These materials are organized into several different notebooks by topic:\n",
    "\n",
    "* Python_Data_Types.ipynb - covers built-in low-level data types and operations (int, float, list, tuple, dict, etc.)\n",
    "* Scientific_Data_Types.ipynb - covers numpy and pandas data and operations\n",
    "* Functions.ipynb - how to write custom functions and decorators\n",
    "* Custom_Types.ipynb - how to write custom data types (objects)\n",
    "* File_IO_Scripting.ipynb - how to read and write files and generate executable scripts"
   ]
  },
  {
   "cell_type": "code",
   "execution_count": null,
   "metadata": {},
   "outputs": [],
   "source": []
  }
 ],
 "metadata": {
  "kernelspec": {
   "display_name": "Python 3",
   "language": "python",
   "name": "python3"
  },
  "language_info": {
   "codemirror_mode": {
    "name": "ipython",
    "version": 3
   },
   "file_extension": ".py",
   "mimetype": "text/x-python",
   "name": "python",
   "nbconvert_exporter": "python",
   "pygments_lexer": "ipython3",
   "version": "3.7.1"
  }
 },
 "nbformat": 4,
 "nbformat_minor": 2
}

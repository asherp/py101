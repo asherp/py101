{
 "cells": [
  {
   "cell_type": "markdown",
   "metadata": {},
   "source": [
    "# File Input/Output\n",
    "\n",
    "The ```with``` statement creates a context that allows us to open, edit, and automatically close a file. This is generally the safest way to write to a file."
   ]
  },
  {
   "cell_type": "code",
   "execution_count": 1,
   "metadata": {},
   "outputs": [],
   "source": [
    "with open('test.txt', 'w') as f:\n",
    "    f.write('testing testing ....\\n')\n",
    "    f.write('\\t1...2...3')\n",
    "    \n",
    "# File automatically closes"
   ]
  },
  {
   "cell_type": "markdown",
   "metadata": {},
   "source": [
    "Trying to write outside the file context will result in an exception:"
   ]
  },
  {
   "cell_type": "code",
   "execution_count": 2,
   "metadata": {},
   "outputs": [
    {
     "name": "stdout",
     "output_type": "stream",
     "text": [
      "I/O operation on closed file.\n"
     ]
    }
   ],
   "source": [
    "try:\n",
    "    f.write('3')\n",
    "except ValueError as e:\n",
    "    print(e)"
   ]
  },
  {
   "cell_type": "markdown",
   "metadata": {},
   "source": [
    "We can view the file using cat:"
   ]
  },
  {
   "cell_type": "code",
   "execution_count": 3,
   "metadata": {},
   "outputs": [
    {
     "name": "stdout",
     "output_type": "stream",
     "text": [
      "testing testing ....\r\n",
      "\t1...2...3"
     ]
    }
   ],
   "source": [
    "!cat test.txt #! symbol will execute cat command lineM"
   ]
  },
  {
   "cell_type": "markdown",
   "metadata": {},
   "source": [
    "You can even read and write binary data this way, though pandas and numpy are better suited in most cases.\n",
    "\n",
    "Read more about the ```with``` statement here http://effbot.org/zone/python-with-statement.htm"
   ]
  },
  {
   "cell_type": "markdown",
   "metadata": {},
   "source": [
    "### Pandas I/O\n",
    "Pandas can also be used to read and write tabular data."
   ]
  },
  {
   "cell_type": "code",
   "execution_count": 6,
   "metadata": {},
   "outputs": [],
   "source": [
    "import pandas as pd"
   ]
  },
  {
   "cell_type": "code",
   "execution_count": 7,
   "metadata": {},
   "outputs": [
    {
     "data": {
      "text/html": [
       "<div>\n",
       "<style scoped>\n",
       "    .dataframe tbody tr th:only-of-type {\n",
       "        vertical-align: middle;\n",
       "    }\n",
       "\n",
       "    .dataframe tbody tr th {\n",
       "        vertical-align: top;\n",
       "    }\n",
       "\n",
       "    .dataframe thead th {\n",
       "        text-align: right;\n",
       "    }\n",
       "</style>\n",
       "<table border=\"1\" class=\"dataframe\">\n",
       "  <thead>\n",
       "    <tr style=\"text-align: right;\">\n",
       "      <th></th>\n",
       "      <th>count</th>\n",
       "      <th>fruit</th>\n",
       "    </tr>\n",
       "  </thead>\n",
       "  <tbody>\n",
       "    <tr>\n",
       "      <th>0</th>\n",
       "      <td>0</td>\n",
       "      <td>apple</td>\n",
       "    </tr>\n",
       "    <tr>\n",
       "      <th>1</th>\n",
       "      <td>1</td>\n",
       "      <td>orange</td>\n",
       "    </tr>\n",
       "    <tr>\n",
       "      <th>2</th>\n",
       "      <td>4</td>\n",
       "      <td>pear</td>\n",
       "    </tr>\n",
       "    <tr>\n",
       "      <th>3</th>\n",
       "      <td>9</td>\n",
       "      <td>apple</td>\n",
       "    </tr>\n",
       "    <tr>\n",
       "      <th>4</th>\n",
       "      <td>16</td>\n",
       "      <td>orange</td>\n",
       "    </tr>\n",
       "    <tr>\n",
       "      <th>5</th>\n",
       "      <td>25</td>\n",
       "      <td>pear</td>\n",
       "    </tr>\n",
       "  </tbody>\n",
       "</table>\n",
       "</div>"
      ],
      "text/plain": [
       "   count   fruit\n",
       "0      0   apple\n",
       "1      1  orange\n",
       "2      4    pear\n",
       "3      9   apple\n",
       "4     16  orange\n",
       "5     25    pear"
      ]
     },
     "execution_count": 7,
     "metadata": {},
     "output_type": "execute_result"
    }
   ],
   "source": [
    "df = pd.DataFrame(dict(count = [i**2 for i in range(6)], \n",
    "                       fruit = ['apple', 'orange','pear','apple','orange','pear']))\n",
    "df"
   ]
  },
  {
   "cell_type": "code",
   "execution_count": 8,
   "metadata": {},
   "outputs": [],
   "source": [
    "df.to_csv('fruit.csv', index_label='id')"
   ]
  },
  {
   "cell_type": "code",
   "execution_count": 9,
   "metadata": {},
   "outputs": [
    {
     "name": "stdout",
     "output_type": "stream",
     "text": [
      "id,count,fruit\r\n",
      "0,0,apple\r\n",
      "1,1,orange\r\n",
      "2,4,pear\r\n",
      "3,9,apple\r\n",
      "4,16,orange\r\n",
      "5,25,pear\r\n"
     ]
    }
   ],
   "source": [
    "!cat fruit.csv #verify contents of file"
   ]
  },
  {
   "cell_type": "code",
   "execution_count": 10,
   "metadata": {},
   "outputs": [
    {
     "data": {
      "text/html": [
       "<div>\n",
       "<style scoped>\n",
       "    .dataframe tbody tr th:only-of-type {\n",
       "        vertical-align: middle;\n",
       "    }\n",
       "\n",
       "    .dataframe tbody tr th {\n",
       "        vertical-align: top;\n",
       "    }\n",
       "\n",
       "    .dataframe thead th {\n",
       "        text-align: right;\n",
       "    }\n",
       "</style>\n",
       "<table border=\"1\" class=\"dataframe\">\n",
       "  <thead>\n",
       "    <tr style=\"text-align: right;\">\n",
       "      <th></th>\n",
       "      <th>count</th>\n",
       "      <th>fruit</th>\n",
       "    </tr>\n",
       "    <tr>\n",
       "      <th>id</th>\n",
       "      <th></th>\n",
       "      <th></th>\n",
       "    </tr>\n",
       "  </thead>\n",
       "  <tbody>\n",
       "    <tr>\n",
       "      <th>0</th>\n",
       "      <td>0</td>\n",
       "      <td>apple</td>\n",
       "    </tr>\n",
       "    <tr>\n",
       "      <th>1</th>\n",
       "      <td>1</td>\n",
       "      <td>orange</td>\n",
       "    </tr>\n",
       "    <tr>\n",
       "      <th>2</th>\n",
       "      <td>4</td>\n",
       "      <td>pear</td>\n",
       "    </tr>\n",
       "    <tr>\n",
       "      <th>3</th>\n",
       "      <td>9</td>\n",
       "      <td>apple</td>\n",
       "    </tr>\n",
       "    <tr>\n",
       "      <th>4</th>\n",
       "      <td>16</td>\n",
       "      <td>orange</td>\n",
       "    </tr>\n",
       "    <tr>\n",
       "      <th>5</th>\n",
       "      <td>25</td>\n",
       "      <td>pear</td>\n",
       "    </tr>\n",
       "  </tbody>\n",
       "</table>\n",
       "</div>"
      ],
      "text/plain": [
       "    count   fruit\n",
       "id               \n",
       "0       0   apple\n",
       "1       1  orange\n",
       "2       4    pear\n",
       "3       9   apple\n",
       "4      16  orange\n",
       "5      25    pear"
      ]
     },
     "execution_count": 10,
     "metadata": {},
     "output_type": "execute_result"
    }
   ],
   "source": [
    "pd.read_csv('fruit.csv', index_col = 'id')"
   ]
  },
  {
   "cell_type": "markdown",
   "metadata": {},
   "source": [
    "You can read and write to json using the ```to_json``` method."
   ]
  },
  {
   "cell_type": "code",
   "execution_count": 11,
   "metadata": {},
   "outputs": [
    {
     "name": "stdout",
     "output_type": "stream",
     "text": [
      "{\"count\":{\"0\":0,\"1\":1,\"2\":4,\"3\":9,\"4\":16,\"5\":25},\"fruit\":{\"0\":\"apple\",\"1\":\"orange\",\"2\":\"pear\",\"3\":\"apple\",\"4\":\"orange\",\"5\":\"pear\"}}\n"
     ]
    }
   ],
   "source": [
    "print(df.to_json())"
   ]
  },
  {
   "cell_type": "markdown",
   "metadata": {},
   "source": [
    "provide a filename to write to file:"
   ]
  },
  {
   "cell_type": "code",
   "execution_count": 12,
   "metadata": {},
   "outputs": [],
   "source": [
    "df.to_json('fruit.json')"
   ]
  },
  {
   "cell_type": "code",
   "execution_count": 13,
   "metadata": {},
   "outputs": [
    {
     "name": "stdout",
     "output_type": "stream",
     "text": [
      "{\"count\":{\"0\":0,\"1\":1,\"2\":4,\"3\":9,\"4\":16,\"5\":25},\"fruit\":{\"0\":\"apple\",\"1\":\"orange\",\"2\":\"pear\",\"3\":\"apple\",\"4\":\"orange\",\"5\":\"pear\"}}"
     ]
    }
   ],
   "source": [
    "!cat fruit.json # verify contents of file"
   ]
  },
  {
   "cell_type": "markdown",
   "metadata": {},
   "source": [
    "load the data back into python"
   ]
  },
  {
   "cell_type": "code",
   "execution_count": 14,
   "metadata": {},
   "outputs": [
    {
     "data": {
      "text/html": [
       "<div>\n",
       "<style scoped>\n",
       "    .dataframe tbody tr th:only-of-type {\n",
       "        vertical-align: middle;\n",
       "    }\n",
       "\n",
       "    .dataframe tbody tr th {\n",
       "        vertical-align: top;\n",
       "    }\n",
       "\n",
       "    .dataframe thead th {\n",
       "        text-align: right;\n",
       "    }\n",
       "</style>\n",
       "<table border=\"1\" class=\"dataframe\">\n",
       "  <thead>\n",
       "    <tr style=\"text-align: right;\">\n",
       "      <th></th>\n",
       "      <th>count</th>\n",
       "      <th>fruit</th>\n",
       "    </tr>\n",
       "  </thead>\n",
       "  <tbody>\n",
       "    <tr>\n",
       "      <th>0</th>\n",
       "      <td>0</td>\n",
       "      <td>apple</td>\n",
       "    </tr>\n",
       "    <tr>\n",
       "      <th>1</th>\n",
       "      <td>1</td>\n",
       "      <td>orange</td>\n",
       "    </tr>\n",
       "    <tr>\n",
       "      <th>2</th>\n",
       "      <td>4</td>\n",
       "      <td>pear</td>\n",
       "    </tr>\n",
       "    <tr>\n",
       "      <th>3</th>\n",
       "      <td>9</td>\n",
       "      <td>apple</td>\n",
       "    </tr>\n",
       "    <tr>\n",
       "      <th>4</th>\n",
       "      <td>16</td>\n",
       "      <td>orange</td>\n",
       "    </tr>\n",
       "    <tr>\n",
       "      <th>5</th>\n",
       "      <td>25</td>\n",
       "      <td>pear</td>\n",
       "    </tr>\n",
       "  </tbody>\n",
       "</table>\n",
       "</div>"
      ],
      "text/plain": [
       "   count   fruit\n",
       "0      0   apple\n",
       "1      1  orange\n",
       "2      4    pear\n",
       "3      9   apple\n",
       "4     16  orange\n",
       "5     25    pear"
      ]
     },
     "execution_count": 14,
     "metadata": {},
     "output_type": "execute_result"
    }
   ],
   "source": [
    "pd.read_json('fruit.json')"
   ]
  },
  {
   "cell_type": "markdown",
   "metadata": {},
   "source": [
    "# Python scripting"
   ]
  },
  {
   "cell_type": "markdown",
   "metadata": {},
   "source": [
    "Any python source code can be converted into a command line script by inspecting the global ```__name__``` variable."
   ]
  },
  {
   "cell_type": "code",
   "execution_count": 15,
   "metadata": {},
   "outputs": [
    {
     "name": "stdout",
     "output_type": "stream",
     "text": [
      "executing main program\n"
     ]
    }
   ],
   "source": [
    "def main():\n",
    "    print('executing main program')\n",
    "\n",
    "if __name__ == \"__main__\":\n",
    "    main()"
   ]
  },
  {
   "cell_type": "markdown",
   "metadata": {},
   "source": [
    "By checking if ```__name__ == \"__main__\"```, we can tell if the document has been accessed from command line, and we can perform further operations. This is the method used by my command line programs. We will cover two methods here, ```click``` and ```argparse```."
   ]
  },
  {
   "cell_type": "markdown",
   "metadata": {},
   "source": [
    "## Click\n",
    "\n",
    "Click supports decorator syntax, which allows the specification of command line arguments to happen outside of the main function."
   ]
  },
  {
   "cell_type": "code",
   "execution_count": 16,
   "metadata": {},
   "outputs": [
    {
     "name": "stdout",
     "output_type": "stream",
     "text": [
      "5\n"
     ]
    }
   ],
   "source": [
    "%%python \n",
    "# the above line is just used for testing (not needed outside jupyter)\n",
    "\n",
    "import click\n",
    "import sys # this line needed for testing\n",
    "\n",
    "@click.command()\n",
    "@click.argument('integers', nargs = -1, type = int)\n",
    "@click.option('--sum', 'accumulate', default=False, is_flag = True, \n",
    "              help='Whether to sum over inputs (default is max)')\n",
    "def main(integers, accumulate):\n",
    "    if accumulate:\n",
    "        print(sum(integers))\n",
    "    else:\n",
    "        print(max(integers))\n",
    "        \n",
    "\n",
    "if __name__ == '__main__':\n",
    "    sys.argv = ['', '3', '4', '5'] #for testing\n",
    "    main() #click automatically calls sys.argv "
   ]
  },
  {
   "cell_type": "markdown",
   "metadata": {},
   "source": [
    "write the script to file, removing all testing lines"
   ]
  },
  {
   "cell_type": "code",
   "execution_count": 17,
   "metadata": {},
   "outputs": [],
   "source": [
    "with open('cli/test_click_cli.py', 'w') as f:\n",
    "    f.write('''\n",
    "import click \n",
    "\n",
    "@click.command()\n",
    "@click.argument('integers', nargs = -1, type = int)\n",
    "@click.option('--sum', 'accumulate', default=False, is_flag = True, help='Whether to sum over inputs (default is max)')\n",
    "def main(integers, accumulate):\n",
    "    if accumulate:\n",
    "        print(sum(integers))\n",
    "    else:\n",
    "        print(max(integers))\n",
    "        \n",
    "\n",
    "if __name__ == '__main__':\n",
    "    main()\n",
    "''')"
   ]
  },
  {
   "cell_type": "code",
   "execution_count": 18,
   "metadata": {},
   "outputs": [
    {
     "name": "stdout",
     "output_type": "stream",
     "text": [
      "Usage: test_click_cli.py [OPTIONS] [INTEGERS]...\r\n",
      "\r\n",
      "Options:\r\n",
      "  --sum   Whether to sum over inputs (default is max)\r\n",
      "  --help  Show this message and exit.\r\n"
     ]
    }
   ],
   "source": [
    "!python cli/test_click_cli.py --help"
   ]
  },
  {
   "cell_type": "code",
   "execution_count": 19,
   "metadata": {},
   "outputs": [
    {
     "name": "stdout",
     "output_type": "stream",
     "text": [
      "12\r\n"
     ]
    }
   ],
   "source": [
    "!python cli/test_click_cli.py 3 4 5 --sum"
   ]
  },
  {
   "cell_type": "markdown",
   "metadata": {},
   "source": [
    "\n",
    "To find out more on Click, visit [Click](https://click.palletsprojects.com/en/7.x/)."
   ]
  },
  {
   "cell_type": "markdown",
   "metadata": {},
   "source": [
    "## Using Argparse\n",
    "The most commonly-used argument parser is ```argparse```, which is included in python 2 and 3. Let's reproduce the above command-line interface using argparse.\n",
    "\n",
    "This example borrows heavily from https://docs.python.org/2/library/argparse.html#adding-arguments"
   ]
  },
  {
   "cell_type": "code",
   "execution_count": 20,
   "metadata": {},
   "outputs": [],
   "source": [
    "import argparse, sys\n",
    "\n",
    "def main(argv=sys.argv[1:]):\n",
    "    parser = argparse.ArgumentParser(description = \"command line test\")\n",
    "    parser.add_argument('integers', metavar='N', type=int, nargs='+',\n",
    "                    help='an integer for the accumulator')\n",
    "    parser.add_argument('--sum', dest='accumulate', action='store_const',\n",
    "                        const=sum, default=max,\n",
    "                        help='sum the integers (default: find the max)')\n",
    "    args = parser.parse_args(argv)\n",
    "    print(args.accumulate(args.integers))"
   ]
  },
  {
   "cell_type": "markdown",
   "metadata": {},
   "source": [
    "The ```main``` function will parse the positional input arguments, storing them in ```args.integers```. An optional ```--sum``` flag will be stored in ```args.accumulate```. \n",
    "\n",
    "For ```integers``` we have specified that the input type must be ```int``` and that we may accept a variable number of arguments ```nargs='+'```. \n",
    "\n",
    "For the ```--sum``` flag,  if the flag is set, the action to be taken is ```action=store_const```. In this case ```const=sum``` means that the ```sum``` function will be stored. However, if the flag is not set, the default behavior is to store the ```max``` function using ```default=max```."
   ]
  },
  {
   "cell_type": "code",
   "execution_count": 21,
   "metadata": {},
   "outputs": [
    {
     "name": "stdout",
     "output_type": "stream",
     "text": [
      "5\n"
     ]
    }
   ],
   "source": [
    "main([str(i) for i in [3, 4, 5]]) # max(3, 4, 5)"
   ]
  },
  {
   "cell_type": "code",
   "execution_count": 22,
   "metadata": {},
   "outputs": [
    {
     "name": "stdout",
     "output_type": "stream",
     "text": [
      "12\n"
     ]
    }
   ],
   "source": [
    "main([str(i) for i in [3, 4, 5, '--sum']]) # 3+4+5"
   ]
  },
  {
   "cell_type": "markdown",
   "metadata": {},
   "source": [
    "let's write our main method to a ```cli``` subdirectory as an executable python script."
   ]
  },
  {
   "cell_type": "code",
   "execution_count": 23,
   "metadata": {},
   "outputs": [],
   "source": [
    "argparse_cli = '''\n",
    "import argparse,sys\n",
    "\n",
    "def main(argv=sys.argv[1:]):\n",
    "    parser = argparse.ArgumentParser(description = \"command line test\")\n",
    "    parser.add_argument('integers', metavar='N', type=int, nargs='+',\n",
    "                    help='an integer for the accumulator')\n",
    "    parser.add_argument('--sum', dest='accumulate', action='store_const',\n",
    "                        const=sum, default=max,\n",
    "                        help='sum the integers (default: find the max)')\n",
    "    args = parser.parse_args(argv)\n",
    "    print(args.accumulate(args.integers))\n",
    "    \n",
    "\n",
    "if __name__ == '__main__':\n",
    "    main(sys.argv[1:])\n",
    "'''"
   ]
  },
  {
   "cell_type": "code",
   "execution_count": 24,
   "metadata": {},
   "outputs": [],
   "source": [
    "with open('cli/test_argparse_cli.py', 'w') as f:\n",
    "    f.write(argparse_cli)"
   ]
  },
  {
   "cell_type": "markdown",
   "metadata": {},
   "source": [
    "Run the script and view the auto-generated help documentation"
   ]
  },
  {
   "cell_type": "code",
   "execution_count": 25,
   "metadata": {},
   "outputs": [
    {
     "name": "stdout",
     "output_type": "stream",
     "text": [
      "usage: test_argparse_cli.py [-h] [--sum] N [N ...]\r\n",
      "\r\n",
      "command line test\r\n",
      "\r\n",
      "positional arguments:\r\n",
      "  N           an integer for the accumulator\r\n",
      "\r\n",
      "optional arguments:\r\n",
      "  -h, --help  show this help message and exit\r\n",
      "  --sum       sum the integers (default: find the max)\r\n"
     ]
    }
   ],
   "source": [
    "!python cli/test_argparse_cli.py -h"
   ]
  },
  {
   "cell_type": "markdown",
   "metadata": {},
   "source": [
    "test with and without ```--sum``` flag"
   ]
  },
  {
   "cell_type": "code",
   "execution_count": 26,
   "metadata": {},
   "outputs": [
    {
     "name": "stdout",
     "output_type": "stream",
     "text": [
      "20\r\n"
     ]
    }
   ],
   "source": [
    "!python cli/test_argparse_cli.py 3 4 5 8 --sum "
   ]
  },
  {
   "cell_type": "code",
   "execution_count": 27,
   "metadata": {},
   "outputs": [
    {
     "name": "stdout",
     "output_type": "stream",
     "text": [
      "8\r\n"
     ]
    }
   ],
   "source": [
    "!python cli/test_argparse_cli.py 3 4 5 8"
   ]
  },
  {
   "cell_type": "markdown",
   "metadata": {},
   "source": [
    "# Executable scripts\n",
    "\n",
    "In the above examples, we invoke the script using\n",
    "\n",
    "    python myscript.py <args> <options>\n",
    "\n",
    "As long as we are running the script in a conda environment, this will work fine. But if you want to run the script as an executable outside an environment, there are two approaches:\n",
    "\n",
    "## Using #/path/to/python (not recommended)\n",
    "\n",
    "The easiest way to make a script executable is to hard-code a path to the appropriate python executable at the top of the script with a hash sign:"
   ]
  },
  {
   "cell_type": "code",
   "execution_count": 28,
   "metadata": {},
   "outputs": [
    {
     "name": "stdout",
     "output_type": "stream",
     "text": [
      "/Users/apembrok/miniconda2/envs/py101/bin/python\r\n"
     ]
    }
   ],
   "source": [
    "!which python #find out the path to your python interpreter"
   ]
  },
  {
   "cell_type": "markdown",
   "metadata": {},
   "source": [
    "paste it as the first line at the top of your script"
   ]
  },
  {
   "cell_type": "code",
   "execution_count": 29,
   "metadata": {},
   "outputs": [
    {
     "name": "stdout",
     "output_type": "stream",
     "text": [
      "executing script\n"
     ]
    }
   ],
   "source": [
    "#/Users/apembrok/miniconda2/envs/python101/bin/python\n",
    "\n",
    "if __name__ == '__main__':\n",
    "    print('executing script')"
   ]
  },
  {
   "cell_type": "markdown",
   "metadata": {},
   "source": [
    "Now write to file and use ```chmod``` to make the script executable."
   ]
  },
  {
   "cell_type": "markdown",
   "metadata": {},
   "source": [
    "One reason this is not recommended is that it makes the installation of the script non-portable. Other reasons can be found here:\n",
    "\n",
    "http://click.palletsprojects.com/en/7.x/setuptools/?highlight=setuptools"
   ]
  },
  {
   "cell_type": "markdown",
   "metadata": {},
   "source": [
    "## Using setuptools (recommended)"
   ]
  },
  {
   "cell_type": "markdown",
   "metadata": {},
   "source": [
    "First we write the program to file as before"
   ]
  },
  {
   "cell_type": "code",
   "execution_count": 30,
   "metadata": {},
   "outputs": [],
   "source": [
    "with open('cli/test_click_exe.py', 'w') as f:\n",
    "    f.write('''\n",
    "import click \n",
    "\n",
    "@click.command()\n",
    "@click.argument('integers', nargs = -1, type = int)\n",
    "@click.option('--sum', 'accumulate', default=False, is_flag = True, \n",
    "    help='Whether to sum over inputs (default is max)')\n",
    "def main(integers, accumulate):\n",
    "    if accumulate:\n",
    "        print(sum(integers))\n",
    "    else:\n",
    "        print(max(integers))\n",
    "''')"
   ]
  },
  {
   "cell_type": "markdown",
   "metadata": {},
   "source": [
    "Note that we did not require the ```__main__``` check as before. That's because we will specify the ```entry_point``` for the executable in ```setup.py```."
   ]
  },
  {
   "cell_type": "code",
   "execution_count": 31,
   "metadata": {},
   "outputs": [],
   "source": [
    "with open('cli/setup.py','w') as f:\n",
    "    f.write(\"\"\"\n",
    "from setuptools import setup\n",
    "\n",
    "setup(\n",
    "    name='test_click_exe',\n",
    "    version='0.1',\n",
    "    py_modules=['test_click_exe'],\n",
    "    install_requires=[\n",
    "        'Click',\n",
    "    ],\n",
    "    entry_points='''\n",
    "        [console_scripts]\n",
    "        test_click_exe=test_click_exe:main\n",
    "    ''',\n",
    ")\n",
    "\"\"\")"
   ]
  },
  {
   "cell_type": "code",
   "execution_count": 32,
   "metadata": {},
   "outputs": [
    {
     "name": "stdout",
     "output_type": "stream",
     "text": [
      "\r\n",
      "from setuptools import setup\r\n",
      "\r\n",
      "setup(\r\n",
      "    name='test_click_exe',\r\n",
      "    version='0.1',\r\n",
      "    py_modules=['test_click_exe'],\r\n",
      "    install_requires=[\r\n",
      "        'Click',\r\n",
      "    ],\r\n",
      "    entry_points='''\r\n",
      "        [console_scripts]\r\n",
      "        test_click_exe=test_click_exe:main\r\n",
      "    ''',\r\n",
      ")\r\n"
     ]
    }
   ],
   "source": [
    "!cat cli/setup.py"
   ]
  },
  {
   "cell_type": "markdown",
   "metadata": {},
   "source": [
    "## test your executable"
   ]
  },
  {
   "cell_type": "markdown",
   "metadata": {},
   "source": [
    "Now, with your environment activated:\n",
    "\n",
    "    (python101) cd cli\n",
    "    (python101) pip install --editable ."
   ]
  },
  {
   "cell_type": "markdown",
   "metadata": {},
   "source": [
    "This will place the executable in your environment's bin directory."
   ]
  },
  {
   "cell_type": "code",
   "execution_count": 33,
   "metadata": {},
   "outputs": [],
   "source": [
    "!which test_click_exe"
   ]
  },
  {
   "cell_type": "code",
   "execution_count": 34,
   "metadata": {},
   "outputs": [
    {
     "name": "stdout",
     "output_type": "stream",
     "text": [
      "/bin/sh: test_click_exe: command not found\r\n"
     ]
    }
   ],
   "source": [
    "!test_click_exe 3 4 5 --sum"
   ]
  },
  {
   "cell_type": "markdown",
   "metadata": {},
   "source": [
    "Now we no longer need to have the environment activated to run it\n",
    "\n",
    "    /Users/apembrok/miniconda2/envs/python101/bin/test_click_exe 3 3 3 --sum\n",
    "    9\n",
    "\n",
    "This means we can symlink the executable and make it available to other scripts."
   ]
  },
  {
   "cell_type": "code",
   "execution_count": 35,
   "metadata": {},
   "outputs": [
    {
     "name": "stdout",
     "output_type": "stream",
     "text": [
      "#!/Users/apembrok/miniconda2/envs/python101/bin/python\r\n",
      "# EASY-INSTALL-ENTRY-SCRIPT: 'test-click-exe','console_scripts','test_click_exe'\r\n",
      "__requires__ = 'test-click-exe'\r\n",
      "import re\r\n",
      "import sys\r\n",
      "from pkg_resources import load_entry_point\r\n",
      "\r\n",
      "if __name__ == '__main__':\r\n",
      "    sys.argv[0] = re.sub(r'(-script\\.pyw?|\\.exe)?$', '', sys.argv[0])\r\n",
      "    sys.exit(\r\n",
      "        load_entry_point('test-click-exe', 'console_scripts', 'test_click_exe')()\r\n",
      "    )\r\n"
     ]
    }
   ],
   "source": [
    "!cat /Users/apembrok/miniconda2/envs/python101/bin/test_click_exe"
   ]
  },
  {
   "cell_type": "markdown",
   "metadata": {},
   "source": [
    "To summarize, if you are building executable scripts:\n",
    "\n",
    "* I highly recommend using click over argparse - it's easier to understand and you can build more complex appications later\n",
    "* Use setup.py if you cannot guarantee that your script will be run with the appropriate python interpreter"
   ]
  }
 ],
 "metadata": {
  "kernelspec": {
   "display_name": "Python 3",
   "language": "python",
   "name": "python3"
  },
  "language_info": {
   "codemirror_mode": {
    "name": "ipython",
    "version": 3
   },
   "file_extension": ".py",
   "mimetype": "text/x-python",
   "name": "python",
   "nbconvert_exporter": "python",
   "pygments_lexer": "ipython3",
   "version": "3.7.1"
  }
 },
 "nbformat": 4,
 "nbformat_minor": 2
}
